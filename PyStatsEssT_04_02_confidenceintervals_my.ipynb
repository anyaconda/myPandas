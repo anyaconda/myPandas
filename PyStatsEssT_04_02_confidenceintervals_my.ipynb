{
 "cells": [
  {
   "cell_type": "markdown",
   "metadata": {},
   "source": [
    "## Python statistics essential training - 04_02_confidenceintervals"
   ]
  },
  {
   "cell_type": "code",
   "execution_count": 1,
   "metadata": {},
   "outputs": [],
   "source": [
    "#meta 4/19/2020\n",
    "#Ch4. Statistical Inference\n",
    "#my code and solution code bits"
   ]
  },
  {
   "cell_type": "code",
   "execution_count": 2,
   "metadata": {},
   "outputs": [],
   "source": [
    "import math\n",
    "import io"
   ]
  },
  {
   "cell_type": "code",
   "execution_count": 3,
   "metadata": {},
   "outputs": [],
   "source": [
    "import numpy as np\n",
    "import pandas as pd\n",
    "\n",
    "import matplotlib\n",
    "import matplotlib.pyplot as plt\n",
    "\n",
    "%matplotlib inline"
   ]
  },
  {
   "cell_type": "code",
   "execution_count": 4,
   "metadata": {},
   "outputs": [],
   "source": [
    "import scipy.stats\n",
    "import scipy.optimize\n",
    "import scipy.spatial"
   ]
  },
  {
   "cell_type": "markdown",
   "metadata": {},
   "source": [
    "# Ch 4. Statistical Inference\n",
    "Describes the process of drawing conclusions from data and of understanding the confidence we may have in those conclusions. In chapter 3, we discussed many ways to describe the variation in variables using both descriptive statistics and diff kinds of plots. In this chapter, we worry about the uncertainty in our statements about variation. The uncertainty arises because we can only study a limited sample of the population that we really want to find about.\n",
    "\n",
    "For instance, we may wonder about all the extra solar planets in our galaxy. But we can only compute statistics for those that we have observed through telescopes. We learn how simple mathematics and computer simulations can be used to understand the randomness due to limited samples. A separate issue is whether the sample is representative of a population. For instance, it is much easier to detect large extra solar planets, so large planets would be over-represented in our sample and skew the resulting population statistics.\n",
    "\n",
    "This selection effects can be addressed mathematically or by improving our data taking. Both topics are outside the scope of this course (see statistics text books).\n",
    "\n",
    "# Confidence Intervals\n",
    "\n",
    "Scenario: A very important election is taking place in your city with an incumbent mayor, Mr. Brown, against the local celebrity chef, Mrs. Green. You work for the local newspaper, and you're asked to poll your co-citizens for their vote. To make things easy for you, we'll assume you can reach every voter by phone and that every poll voter replies truthfully. (Both are not trivial assumptions in reality, but in this case, there are no selection effects.)  \n",
    "\n",
    "Laboriously, you call 1,000 voters and ask for their voting intention. \n",
    "\n",
    "\n",
    "## 0. Load Data\n",
    "Start with a sample of 1000 votes"
   ]
  },
  {
   "cell_type": "code",
   "execution_count": 5,
   "metadata": {},
   "outputs": [
    {
     "name": "stdout",
     "output_type": "stream",
     "text": [
      "<class 'pandas.core.frame.DataFrame'>\n",
      "RangeIndex: 1000 entries, 0 to 999\n",
      "Data columns (total 1 columns):\n",
      "vote    1000 non-null object\n",
      "dtypes: object(1)\n",
      "memory usage: 7.9+ KB\n"
     ]
    }
   ],
   "source": [
    "poll = pd.read_csv('lynda_data/poll.csv')\n",
    "poll.info()"
   ]
  },
  {
   "cell_type": "code",
   "execution_count": 6,
   "metadata": {},
   "outputs": [
    {
     "data": {
      "text/html": [
       "<div>\n",
       "<style scoped>\n",
       "    .dataframe tbody tr th:only-of-type {\n",
       "        vertical-align: middle;\n",
       "    }\n",
       "\n",
       "    .dataframe tbody tr th {\n",
       "        vertical-align: top;\n",
       "    }\n",
       "\n",
       "    .dataframe thead th {\n",
       "        text-align: right;\n",
       "    }\n",
       "</style>\n",
       "<table border=\"1\" class=\"dataframe\">\n",
       "  <thead>\n",
       "    <tr style=\"text-align: right;\">\n",
       "      <th></th>\n",
       "      <th>vote</th>\n",
       "    </tr>\n",
       "  </thead>\n",
       "  <tbody>\n",
       "    <tr>\n",
       "      <th>0</th>\n",
       "      <td>Brown</td>\n",
       "    </tr>\n",
       "    <tr>\n",
       "      <th>1</th>\n",
       "      <td>Green</td>\n",
       "    </tr>\n",
       "    <tr>\n",
       "      <th>2</th>\n",
       "      <td>Brown</td>\n",
       "    </tr>\n",
       "    <tr>\n",
       "      <th>3</th>\n",
       "      <td>Brown</td>\n",
       "    </tr>\n",
       "    <tr>\n",
       "      <th>4</th>\n",
       "      <td>Brown</td>\n",
       "    </tr>\n",
       "  </tbody>\n",
       "</table>\n",
       "</div>"
      ],
      "text/plain": [
       "    vote\n",
       "0  Brown\n",
       "1  Green\n",
       "2  Brown\n",
       "3  Brown\n",
       "4  Brown"
      ]
     },
     "execution_count": 6,
     "metadata": {},
     "output_type": "execute_result"
    }
   ],
   "source": [
    "poll.head()"
   ]
  },
  {
   "cell_type": "markdown",
   "metadata": {},
   "source": [
    "## 1. Analyze Data"
   ]
  },
  {
   "cell_type": "code",
   "execution_count": 7,
   "metadata": {},
   "outputs": [
    {
     "data": {
      "text/plain": [
       "Brown    0.511\n",
       "Green    0.489\n",
       "Name: vote, dtype: float64"
      ]
     },
     "execution_count": 7,
     "metadata": {},
     "output_type": "execute_result"
    }
   ],
   "source": [
    "#get proportions for each candidate\n",
    "poll.vote.value_counts(normalize=True)"
   ]
  },
  {
   "cell_type": "markdown",
   "metadata": {},
   "source": [
    "#### Sampling variability\n",
    "The data seem to say that Brown is going to remain mayor. However, the limited sample means that the proportion depends on the specific people that you happen to draw. This is known as sampling variability.\n",
    "\n",
    "So given this poll, what can you really say about the underlying population of voters?  We need to study the sampling distribution of the proportion, namely, we wish to understand what range of different samples we may get for the same population, and we'll do this by simulation on a computer. "
   ]
  },
  {
   "cell_type": "code",
   "execution_count": 8,
   "metadata": {},
   "outputs": [
    {
     "data": {
      "text/plain": [
       "array(['Green', 'Green', 'Green', 'Green', 'Green', 'Green', 'Green',\n",
       "       'Brown', 'Green', 'Brown'], dtype='<U5')"
      ]
     },
     "execution_count": 8,
     "metadata": {},
     "output_type": "execute_result"
    }
   ],
   "source": [
    "#np.random.rand(n) returns a vector of random numbers between 0 and 1, size n.\n",
    "np.where(np.random.rand(10) < 0.51, 'Brown', 'Green')"
   ]
  },
  {
   "cell_type": "code",
   "execution_count": 9,
   "metadata": {},
   "outputs": [],
   "source": [
    "#build a simple function that simulates such a sample\n",
    "#input: \n",
    "#  -the actual fraction of votes for Mayor Brown \n",
    "#  -the number of people polled\n",
    "#output:\n",
    "#  -votes for either Brown or Green\n",
    "\n",
    "def sample(brown, n=1000):\n",
    "    return pd.DataFrame({'vote': np.where(np.random.rand(n) < brown, 'Brown', 'Green')})"
   ]
  },
  {
   "cell_type": "code",
   "execution_count": 10,
   "metadata": {},
   "outputs": [
    {
     "data": {
      "text/plain": [
       "Brown    0.58\n",
       "Green    0.42\n",
       "Name: vote, dtype: float64"
      ]
     },
     "execution_count": 10,
     "metadata": {},
     "output_type": "execute_result"
    }
   ],
   "source": [
    "#get one possible sample and the counts for two candidates\n",
    "s = sample(0.51, n=100)\n",
    "s.vote.value_counts(normalize=True)"
   ]
  },
  {
   "cell_type": "markdown",
   "metadata": {},
   "source": [
    "Sometimes, Brown is actually under the level of winning the election, although is True fraction is .51. For example:  \n",
    "Green    0.55  \n",
    "Brown    0.45  \n",
    "\n",
    "Repeat many times and collect the results.  1000 simulated experiments should be sufficient."
   ]
  },
  {
   "cell_type": "code",
   "execution_count": 11,
   "metadata": {},
   "outputs": [
    {
     "data": {
      "text/html": [
       "<div>\n",
       "<style scoped>\n",
       "    .dataframe tbody tr th:only-of-type {\n",
       "        vertical-align: middle;\n",
       "    }\n",
       "\n",
       "    .dataframe tbody tr th {\n",
       "        vertical-align: top;\n",
       "    }\n",
       "\n",
       "    .dataframe thead th {\n",
       "        text-align: right;\n",
       "    }\n",
       "</style>\n",
       "<table border=\"1\" class=\"dataframe\">\n",
       "  <thead>\n",
       "    <tr style=\"text-align: right;\">\n",
       "      <th></th>\n",
       "      <th>Brown</th>\n",
       "      <th>Green</th>\n",
       "    </tr>\n",
       "  </thead>\n",
       "  <tbody>\n",
       "    <tr>\n",
       "      <th>vote</th>\n",
       "      <td>0.538</td>\n",
       "      <td>0.462</td>\n",
       "    </tr>\n",
       "    <tr>\n",
       "      <th>vote</th>\n",
       "      <td>0.519</td>\n",
       "      <td>0.481</td>\n",
       "    </tr>\n",
       "  </tbody>\n",
       "</table>\n",
       "</div>"
      ],
      "text/plain": [
       "      Brown  Green\n",
       "vote  0.538  0.462\n",
       "vote  0.519  0.481"
      ]
     },
     "execution_count": 11,
     "metadata": {},
     "output_type": "execute_result"
    }
   ],
   "source": [
    "dist = pd.DataFrame([sample(0.51).vote.value_counts(normalize=True) for i in range(1000)])\n",
    "dist.head(2)"
   ]
  },
  {
   "cell_type": "code",
   "execution_count": 12,
   "metadata": {},
   "outputs": [
    {
     "data": {
      "image/png": "[encoded data removed]",
      "text/plain": [
       "<Figure size 432x288 with 1 Axes>"
      ]
     },
     "metadata": {},
     "output_type": "display_data"
    }
   ],
   "source": [
    "dist.Brown.hist(histtype='step', bins=20)\n",
    "plt.title(\"Sampling Distribution (n=1000), small poll results ratio\")\n",
    "plt.axvline(0.511,c='C1')\n",
    "plt.draw()"
   ]
  },
  {
   "cell_type": "markdown",
   "metadata": {},
   "source": [
    "It turns out that for a True Brown fraction of .51, we may obtain any sample proportion from .48 to .54.  The converse must be true also, so that .51 that you observe may actually originate from a Green majority. \n",
    "\n",
    "Can we make this more precise and identify a likely range of True fractions? \n",
    "\n",
    "#### Confidence interval\n",
    "\n",
    "95% confidence interval:  \n",
    "- built from data  \n",
    "- contains the true value of a population parameter 95% of the time  \n",
    "- over many similar experiments\n",
    "\n",
    "The confidence interval describes the uncertainty of inference by giving us a range such that saying 95% of the times, the range would include the True value. 95% is the confidence level means that if we were to make polls in 100 elections and compute the confidence interval for each election, then for approximately 95 of those 100, the intervals would include a True value.\n",
    "\n",
    "Of course, we wouldn't know which 95. A confidence interval is formed from the data in such a way that 95% of the times, it would include the True value. \n",
    "\n",
    "Next, simulate the sampling distribution for any True Brown fraction."
   ]
  },
  {
   "cell_type": "code",
   "execution_count": 13,
   "metadata": {},
   "outputs": [],
   "source": [
    "def samplingdist(brown,n=1000):\n",
    "    return pd.DataFrame([sample(brown,n).vote.value_counts(normalize=True) for i in range(1000)])"
   ]
  },
  {
   "cell_type": "markdown",
   "metadata": {},
   "source": [
    "Let's say we want to go for the 95% confidence interval. This will lie between the 2.5% quantile and the 97.5% quantile.\n",
    "\n",
    "So we look for the True fraction for which a measured value of .51 lies at a 2.5% quantile, and the True fraction for which our measured value lies at the 97.5 quantile. It turns out that those two fractions are the edges of the confidence interval. If you think about many different experiments where we repeat this procedure, you can convince yourself that this is indeed the case. So I'll make a function that extracts those quantiles by first calling samplinglist and then calling DataFrame quantile on it.\n"
   ]
  },
  {
   "cell_type": "code",
   "execution_count": 14,
   "metadata": {},
   "outputs": [],
   "source": [
    "def quantiles(brown,n=1000):\n",
    "    dist = samplingdist(brown,n)\n",
    "    return dist.Brown.quantile(0.025), dist.Brown.quantile(0.975)"
   ]
  },
  {
   "cell_type": "markdown",
   "metadata": {},
   "source": [
    "Let's explore a few values until we find .51 on each end. We do this approximately. "
   ]
  },
  {
   "cell_type": "code",
   "execution_count": 15,
   "metadata": {},
   "outputs": [
    {
     "name": "stdout",
     "output_type": "stream",
     "text": [
      "(0.468975, 0.53)\n",
      "(0.451, 0.511025)\n",
      "(0.508, 0.571)\n"
     ]
    }
   ],
   "source": [
    "print(quantiles(0.50))\n",
    "print(quantiles(0.48)) #lower interval\n",
    "print(quantiles(0.54)) #upper interval"
   ]
  },
  {
   "cell_type": "markdown",
   "metadata": {},
   "source": [
    "So, for an observed sample, proportion of .51, when the sample size is 1,000, the 95 confidence interval for the True population function is .48 to .54.\n",
    "\n",
    "#### 95% confidence interval : [0.48, 0.54]\n",
    "#### Estimate = 0.51 +- 0.03 (at 95% confidence level) \n",
    "Estimate = Point estimate +- margin of error\n",
    "\n",
    "We can say that our point estimate is .51, and that the margin of error is .03 on either side in 95% confidence. Thus, the result of this election lies within the margin of error of the poll. \n",
    "\n",
    "\n",
    "Another way to look at it:  \n",
    "Create a sampling distribution for a True fraction of 50% and 1,000 samples and see where small poll average falls.\n"
   ]
  },
  {
   "cell_type": "code",
   "execution_count": 16,
   "metadata": {},
   "outputs": [
    {
     "data": {
      "text/html": [
       "<div>\n",
       "<style scoped>\n",
       "    .dataframe tbody tr th:only-of-type {\n",
       "        vertical-align: middle;\n",
       "    }\n",
       "\n",
       "    .dataframe tbody tr th {\n",
       "        vertical-align: top;\n",
       "    }\n",
       "\n",
       "    .dataframe thead th {\n",
       "        text-align: right;\n",
       "    }\n",
       "</style>\n",
       "<table border=\"1\" class=\"dataframe\">\n",
       "  <thead>\n",
       "    <tr style=\"text-align: right;\">\n",
       "      <th></th>\n",
       "      <th>Brown</th>\n",
       "      <th>Green</th>\n",
       "    </tr>\n",
       "  </thead>\n",
       "  <tbody>\n",
       "    <tr>\n",
       "      <th>vote</th>\n",
       "      <td>0.488</td>\n",
       "      <td>0.512</td>\n",
       "    </tr>\n",
       "    <tr>\n",
       "      <th>vote</th>\n",
       "      <td>0.532</td>\n",
       "      <td>0.468</td>\n",
       "    </tr>\n",
       "  </tbody>\n",
       "</table>\n",
       "</div>"
      ],
      "text/plain": [
       "      Brown  Green\n",
       "vote  0.488  0.512\n",
       "vote  0.532  0.468"
      ]
     },
     "execution_count": 16,
     "metadata": {},
     "output_type": "execute_result"
    }
   ],
   "source": [
    "#create a sampling distribution for a True fraction of 50% and 10,000 samples\n",
    "#dist = pd.DataFrame([sample(0.50).vote.value_counts(normalize=True) for i in range(1000)])\n",
    "dist = samplingdist(0.5)\n",
    "dist.head(2)"
   ]
  },
  {
   "cell_type": "code",
   "execution_count": 17,
   "metadata": {},
   "outputs": [
    {
     "data": {
      "image/png": "[encoded data removed]",
      "text/plain": [
       "<Figure size 432x288 with 1 Axes>"
      ]
     },
     "metadata": {},
     "output_type": "display_data"
    }
   ],
   "source": [
    "dist.Brown.hist(histtype='step', bins=20)\n",
    "plt.title(\"Sampling Distribution with simulated 50% Brown fraction, n = 1000.  Small poll prediction is too weak. \")\n",
    "plt.axvline(0.511,c='C1')\n",
    "plt.axvline(1 - 0.511,c='g')\n",
    "plt.draw()"
   ]
  },
  {
   "cell_type": "markdown",
   "metadata": {},
   "source": [
    "That's not very satisfying for a journalist such as you. So we can do better by increasing the size of the sample. How much bigger would we need to be? Luckily, we have a way to simulate it.\n",
    "\n",
    "#### How to reduce margin of error?  Collect more data.\n",
    "We'll create a sampling distribution for a True fraction of 50%, and with 10,000 samples. This takes a few seconds. Let's histogram again. "
   ]
  },
  {
   "cell_type": "code",
   "execution_count": 18,
   "metadata": {},
   "outputs": [],
   "source": [
    "#create a sampling distribution for a True fraction of 50% and 10,000 samples\n",
    "dist = samplingdist(0.50,10000)"
   ]
  },
  {
   "cell_type": "code",
   "execution_count": 19,
   "metadata": {},
   "outputs": [
    {
     "data": {
      "image/png": "[encoded data removed]",
      "text/plain": [
       "<Figure size 432x288 with 1 Axes>"
      ]
     },
     "metadata": {},
     "output_type": "display_data"
    }
   ],
   "source": [
    "dist.Brown.hist(histtype='step', bins=20)\n",
    "plt.title(\"Sampling Distribution with simulated 50% Brown fraction, n = 10000. Brown's prediction from small poll.\")\n",
    "plt.axvline(0.511,c='C1')\n",
    "plt.axvline(1 - 0.511,c='g')\n",
    "plt.draw()"
   ]
  },
  {
   "cell_type": "markdown",
   "metadata": {},
   "source": [
    "You see from this, the margin of error is now more like 1%, which would have been sufficient to claim Brown as the likely winner. Under very general conditions, one can show that the margin of error improves with square root of the number of samples."
   ]
  },
  {
   "cell_type": "code",
   "execution_count": 20,
   "metadata": {},
   "outputs": [
    {
     "name": "stdout",
     "output_type": "stream",
     "text": [
      "(0.4903, 0.5099025)\n",
      "(0.48, 0.4997025)\n",
      "(0.500195, 0.5194025)\n"
     ]
    }
   ],
   "source": [
    "#include .5 (or almost)\n",
    "print(quantiles(0.50, 10000))\n",
    "print(quantiles(0.49, 10000)) #lower interval\n",
    "print(quantiles(0.51, 10000)) #upper interval"
   ]
  },
  {
   "cell_type": "code",
   "execution_count": 21,
   "metadata": {},
   "outputs": [
    {
     "name": "stdout",
     "output_type": "stream",
     "text": [
      "(0.4699975, 0.4891)\n",
      "(0.5102975, 0.5306)\n"
     ]
    }
   ],
   "source": [
    "#exclude .5\n",
    "print(quantiles(0.48, 10000))\n",
    "print(quantiles(0.52, 10000))"
   ]
  },
  {
   "cell_type": "markdown",
   "metadata": {},
   "source": [
    "But we actually have to collect the sample. \n",
    "\n",
    "## 0. Load Data\n",
    "Get a larger sample of 10000 votes"
   ]
  },
  {
   "cell_type": "code",
   "execution_count": 22,
   "metadata": {},
   "outputs": [
    {
     "data": {
      "text/plain": [
       "(10000, 1)"
      ]
     },
     "execution_count": 22,
     "metadata": {},
     "output_type": "execute_result"
    }
   ],
   "source": [
    "largepoll = pd.read_csv('lynda_data/poll-larger.csv')\n",
    "largepoll.shape"
   ]
  },
  {
   "cell_type": "markdown",
   "metadata": {},
   "source": [
    "## 1. Analyze Data"
   ]
  },
  {
   "cell_type": "code",
   "execution_count": 23,
   "metadata": {},
   "outputs": [
    {
     "data": {
      "text/plain": [
       "Green    0.5181\n",
       "Brown    0.4819\n",
       "Name: vote, dtype: float64"
      ]
     },
     "execution_count": 23,
     "metadata": {},
     "output_type": "execute_result"
    }
   ],
   "source": [
    "largepoll.vote.value_counts(normalize=True)"
   ]
  },
  {
   "cell_type": "markdown",
   "metadata": {},
   "source": [
    "And we find out that the likely winner is, in fact, Mrs. Green. If we were to compute the confidence interval for the Green fraction in this case, as we did above, we'd find that it is between .508 and .528.  It doesn't include the threshold of .50, therefore it gives us 95% confidence. \n",
    "\n",
    "#### Compute 95% confidence interval for Mrs. Green\n",
    "- option 1. Reverse Brown's chances"
   ]
  },
  {
   "cell_type": "code",
   "execution_count": 24,
   "metadata": {},
   "outputs": [
    {
     "name": "stdout",
     "output_type": "stream",
     "text": [
      "(0.4715, 0.4914025)\n"
     ]
    }
   ],
   "source": [
    "#reverse - Brown's chances are not good, don't include .50 threshold\n",
    "print(quantiles(0.482, 10000))"
   ]
  },
  {
   "cell_type": "markdown",
   "metadata": {},
   "source": [
    "- option 2. Redo sampling distribution analysis for candidate Green"
   ]
  },
  {
   "cell_type": "code",
   "execution_count": 25,
   "metadata": {},
   "outputs": [
    {
     "data": {
      "text/plain": [
       "Green    0.509\n",
       "Brown    0.491\n",
       "Name: vote, dtype: float64"
      ]
     },
     "execution_count": 25,
     "metadata": {},
     "output_type": "execute_result"
    }
   ],
   "source": [
    "#reverse for candidate Green \n",
    "s = sample(1 - 0.518)\n",
    "s.vote.value_counts(normalize=True)"
   ]
  },
  {
   "cell_type": "markdown",
   "metadata": {},
   "source": [
    "Based on larger poll, redo calculations for Mrs. Green  \n",
    "- sample size increased to 10000\n"
   ]
  },
  {
   "cell_type": "code",
   "execution_count": 26,
   "metadata": {},
   "outputs": [
    {
     "data": {
      "image/png": "[encoded data removed]",
      "text/plain": [
       "<Figure size 432x288 with 1 Axes>"
      ]
     },
     "metadata": {},
     "output_type": "display_data"
    }
   ],
   "source": [
    "#reuse dist = samplingdist(0.50,10000)\n",
    "dist.Green.hist(histtype='step', bins=20)\n",
    "plt.title(\"Sampling Distribution with simulated 50% Green fraction, n = 10000\")\n",
    "plt.axvline(0.4819,c='C1')\n",
    "plt.axvline(0.5181,c='g')\n",
    "plt.draw()"
   ]
  },
  {
   "cell_type": "code",
   "execution_count": 27,
   "metadata": {},
   "outputs": [
    {
     "name": "stdout",
     "output_type": "stream",
     "text": [
      "(0.49079750000000005, 0.5093)\n",
      "(0.4717, 0.4920025)\n"
     ]
    }
   ],
   "source": [
    "print(quantiles(0.50, 10000))\n",
    "print(quantiles(1 - 0.518, 10000)) #lower interval\n",
    "#print(quantiles(0.54)) #upper interval"
   ]
  },
  {
   "cell_type": "markdown",
   "metadata": {},
   "source": [
    "It doesn't include the threshold of .50. So now, you can go and write your article."
   ]
  },
  {
   "cell_type": "markdown",
   "metadata": {},
   "source": [
    "### Xtra. Duplicate functions for Green\n",
    "- sampling distribution  \n",
    "- quantiles  \n",
    "to validate results of using existing functions coded for Brown but also working for Green"
   ]
  },
  {
   "cell_type": "code",
   "execution_count": 28,
   "metadata": {},
   "outputs": [],
   "source": [
    "#distGreen = pd.DataFrame([sample(1 - 0.518, 10000).vote.value_counts(normalize=True) for i in range(1000)])\n",
    "#distGreen.head()\n",
    "#distGreen.Green.hist(histtype='step', bins=20)"
   ]
  },
  {
   "cell_type": "code",
   "execution_count": 29,
   "metadata": {},
   "outputs": [],
   "source": [
    "def samplingdistGreen(green,n=10000):\n",
    "    return pd.DataFrame([sample(1 - green,n).vote.value_counts(normalize=True) for i in range(1000)])"
   ]
  },
  {
   "cell_type": "code",
   "execution_count": 30,
   "metadata": {},
   "outputs": [],
   "source": [
    "def quantilesGreen(green,n=10000):\n",
    "    distG = samplingdistGreen(green,n)\n",
    "    return distG.Green.quantile(0.025), distG.Green.quantile(0.975)"
   ]
  },
  {
   "cell_type": "code",
   "execution_count": 31,
   "metadata": {},
   "outputs": [
    {
     "name": "stdout",
     "output_type": "stream",
     "text": [
      "(0.4899975, 0.5090025)\n",
      "(0.507995, 0.5281025)\n"
     ]
    }
   ],
   "source": [
    "print(quantilesGreen(0.50, 10000))\n",
    "print(quantilesGreen(0.518, 10000)) #lower interval\n",
    "#print(quantiles(0.54)) #upper interval"
   ]
  },
  {
   "cell_type": "markdown",
   "metadata": {},
   "source": [
    "It doesn't include the threshold of .50. So now, you can go and write your article."
   ]
  },
  {
   "cell_type": "markdown",
   "metadata": {},
   "source": [
    "### Summary\n",
    "- Look at results of a small poll, n = 1000. Votes Brown vs Green .511 vs .489  \n",
    "- Can simulate many similar sample polls with this proportion -> notice that Brown doesn't always win, the small poll feels uncertain.  \n",
    "- Visualize a sampling distribution of 1000 samples, looks like poll estimate doesn't fall far enough from .50  to give confidence. \n",
    "- Compute 95% confidence interval = [0.48, 0.54] the election is up for grabs with 0.51 +- .03 margin of error.  \n",
    "  \n",
    "How to increase confidence?  Increase the poll size and reevaluate the point estimate.  \n",
    "- Simulate sample polls, now with n = 10000.  \n",
    "- Visualize a sampling distribution of 10000 samples.  The margin of error get smaller +- .01. Looks like (the previous) poll estimate falls far from .50 => would give more confidence.  But previous poll results are no longer meaningful.    \n",
    "- Conduct a larger poll, n = 10000 to get a new vote estimate.  Votes Brown vs Green .482 vs .518  \n",
    "- Compute 95% confidence interval = [0.509, 0.528] now in favor of Green, the election looks more decisive with 0.518 +- .01 margin of error.  \n",
    "\n"
   ]
  },
  {
   "cell_type": "code",
   "execution_count": null,
   "metadata": {},
   "outputs": [],
   "source": []
  }
 ],
 "metadata": {
  "kernelspec": {
   "display_name": "Python 3",
   "language": "python",
   "name": "python3"
  },
  "language_info": {
   "codemirror_mode": {
    "name": "ipython",
    "version": 3
   },
   "file_extension": ".py",
   "mimetype": "text/x-python",
   "name": "python",
   "nbconvert_exporter": "python",
   "pygments_lexer": "ipython3",
   "version": "3.6.7"
  },
  "toc": {
   "base_numbering": 1,
   "nav_menu": {},
   "number_sections": true,
   "sideBar": true,
   "skip_h1_title": false,
   "title_cell": "Table of Contents",
   "title_sidebar": "Contents",
   "toc_cell": false,
   "toc_position": {},
   "toc_section_display": true,
   "toc_window_display": false
  }
 },
 "nbformat": 4,
 "nbformat_minor": 2
}
