{
 "cells": [
  {
   "cell_type": "markdown",
   "metadata": {},
   "source": [
    "## Python statistics essential training - 03_03_histograms"
   ]
  },
  {
   "cell_type": "code",
   "execution_count": 2,
   "metadata": {},
   "outputs": [],
   "source": [
    "#meta 4/7/2020\n",
    "#Ch3. Visualizing and Describing Data\n",
    "#my code and solution code bits"
   ]
  },
  {
   "cell_type": "code",
   "execution_count": 3,
   "metadata": {},
   "outputs": [],
   "source": [
    "import numpy as np\n",
    "import scipy.stats\n",
    "import pandas as pd"
   ]
  },
  {
   "cell_type": "code",
   "execution_count": 19,
   "metadata": {},
   "outputs": [],
   "source": [
    "import matplotlib\n",
    "import matplotlib.pyplot as plt\n",
    "\n",
    "from IPython import display\n",
    "from ipywidgets import interact, widgets\n",
    "\n",
    "%matplotlib inline"
   ]
  },
  {
   "cell_type": "code",
   "execution_count": 5,
   "metadata": {},
   "outputs": [],
   "source": [
    "import re\n",
    "import mailbox\n",
    "import csv"
   ]
  },
  {
   "cell_type": "markdown",
   "metadata": {},
   "source": [
    "# Plot Distributions\n",
    "The job of statistics is to describe variation.  We look at ways to describe and visualize the variation in a single, quantitative variable, namely the distribution of the variable.\n",
    "\n",
    "# Gapminder\n",
    "Identifying and explaining global trends in data with the late statistician and public health expert Hans Rosling.\n",
    "\n",
    "- book Factfulness  \n",
    "- website gapminder.org\n",
    "\n",
    "## 0. Load Data\n",
    "A few data sets that describe the distribution of incomes per person, and per day, in China, and in the U.S., respectively, in 1965, and 2015 ( given in 2011 equivalent dollars).\n",
    "\n",
    "Src: generated these data sets using a few simple numbers about the Chinese and American economies from Gapminder.org Thus, they should be understood to be qualitative, and not accurate representations of the truth.\n",
    "\n",
    "Each entry represents  \n",
    "- avg income of a variable number of people, depending on the size of the country's population in that year\n",
    "- pre-generated a column containing the base 10 logarithm of the income."
   ]
  },
  {
   "cell_type": "code",
   "execution_count": 7,
   "metadata": {},
   "outputs": [
    {
     "name": "stdout",
     "output_type": "stream",
     "text": [
      "<class 'pandas.core.frame.DataFrame'>\n",
      "RangeIndex: 1000 entries, 0 to 999\n",
      "Data columns (total 2 columns):\n",
      "income          1000 non-null float64\n",
      "log10_income    1000 non-null float64\n",
      "dtypes: float64(2)\n",
      "memory usage: 15.7 KB\n"
     ]
    }
   ],
   "source": [
    "china1965 = pd.read_csv('lynda_data/income-1965-china.csv')\n",
    "china2015 = pd.read_csv('lynda_data/income-2015-china.csv')\n",
    "usa1965 = pd.read_csv('lynda_data/income-1965-usa.csv')\n",
    "usa2015 = pd.read_csv('lynda_data/income-2015-usa.csv')\n",
    "\n",
    "china1965.info()"
   ]
  },
  {
   "cell_type": "markdown",
   "metadata": {},
   "source": [
    "## 1. Plot\n",
    "\n",
    "### 1.1 Boxplot\n",
    "Visualizes coverage intervals.  \n",
    "The whiskers are set at 150 and 66%, respectively of the quantiles.\n",
    "\n",
    "Points below and above whiskers are considered flyers so they're not typical and they may even be outliers. That is, point that are suspicious and may reflect measurement errors."
   ]
  },
  {
   "cell_type": "code",
   "execution_count": 11,
   "metadata": {},
   "outputs": [
    {
     "data": {
      "text/plain": [
       "<matplotlib.axes._subplots.AxesSubplot at 0x1150c94e0>"
      ]
     },
     "execution_count": 11,
     "metadata": {},
     "output_type": "execute_result"
    },
    {
     "data": {
      "image/png": "[encoded data removed]",
      "text/plain": [
       "<Figure size 432x288 with 1 Axes>"
      ]
     },
     "metadata": {},
     "output_type": "display_data"
    }
   ],
   "source": [
    "china1965.income.plot(kind='box')"
   ]
  },
  {
   "cell_type": "markdown",
   "metadata": {},
   "source": [
    "#### Compare China and the U.S."
   ]
  },
  {
   "cell_type": "code",
   "execution_count": 16,
   "metadata": {},
   "outputs": [
    {
     "data": {
      "text/plain": [
       "<matplotlib.axes._subplots.AxesSubplot at 0x1a23177748>"
      ]
     },
     "execution_count": 16,
     "metadata": {},
     "output_type": "execute_result"
    },
    {
     "data": {
      "image/png": "[encoded data removed]",
      "text/plain": [
       "<Figure size 432x288 with 1 Axes>"
      ]
     },
     "metadata": {},
     "output_type": "display_data"
    }
   ],
   "source": [
    "#make a single dataframe to plot the boxes together\n",
    "pd.DataFrame({'china': china1965.income, 'usa': usa1965.income}).plot(kind='box')"
   ]
  },
  {
   "cell_type": "markdown",
   "metadata": {},
   "source": [
    "The scales are so different that we don't see much, so it's better to make box plots of the logarithm of the income."
   ]
  },
  {
   "cell_type": "code",
   "execution_count": 17,
   "metadata": {},
   "outputs": [
    {
     "data": {
      "text/plain": [
       "<matplotlib.axes._subplots.AxesSubplot at 0x1a231d9b38>"
      ]
     },
     "execution_count": 17,
     "metadata": {},
     "output_type": "execute_result"
    },
    {
     "data": {
      "image/png": "[encoded data removed]",
      "text/plain": [
       "<Figure size 432x288 with 1 Axes>"
      ]
     },
     "metadata": {},
     "output_type": "display_data"
    }
   ],
   "source": [
    "pd.DataFrame({'china': china1965.log10_income, 'usa': usa1965.log10_income}).plot(kind='box')"
   ]
  },
  {
   "cell_type": "markdown",
   "metadata": {},
   "source": [
    "This shows clearly the fact of 50 between the two distributions. \n",
    "\n",
    "### 1.2 Histogram\n",
    "A much richer visualization of its distribution is a histogram. A histogram divides the data into a set of contiguous bins and each bin shows the count of data points.  We also plot our descriptive statistics as vertical lines on top of the histogram."
   ]
  },
  {
   "cell_type": "code",
   "execution_count": 31,
   "metadata": {},
   "outputs": [
    {
     "data": {
      "text/plain": [
       "<matplotlib.lines.Line2D at 0x1a245241d0>"
      ]
     },
     "execution_count": 31,
     "metadata": {},
     "output_type": "execute_result"
    },
    {
     "data": {
      "image/png": "[encoded data removed]",
      "text/plain": [
       "<Figure size 432x288 with 1 Axes>"
      ]
     },
     "metadata": {},
     "output_type": "display_data"
    }
   ],
   "source": [
    "china1965.income.plot(kind='hist',histtype='step',bins=30)\n",
    "\n",
    "#plot vertical lines\n",
    "plt.axvline(china1965.income.mean(),c='C1')\n",
    "plt.axvline(china1965.income.median(),c='C1',linestyle='--')\n",
    "plt.axvline(china1965.income.quantile(0.25),c='C1',linestyle=':')\n",
    "plt.axvline(china1965.income.quantile(0.75),c='C1',linestyle=':')"
   ]
  },
  {
   "cell_type": "markdown",
   "metadata": {},
   "source": [
    "We see where most of the incomes lie in China in 1965, with the most frequent income somewhere around half a dollar.  We also see that the mean and the median are close, as is often the case.\n",
    "\n",
    "### 1.3 Density Plot\n",
    "A density plot is effectively a smooth histogram which approximates the continuous density of the variable ( some calculus)\n"
   ]
  },
  {
   "cell_type": "code",
   "execution_count": 39,
   "metadata": {},
   "outputs": [
    {
     "data": {
      "text/plain": [
       "(0, 3, 0.0, 1.2342999882944066)"
      ]
     },
     "execution_count": 39,
     "metadata": {},
     "output_type": "execute_result"
    },
    {
     "data": {
      "image/png": "[encoded data removed]",
      "text/plain": [
       "<Figure size 432x288 with 1 Axes>"
      ]
     },
     "metadata": {},
     "output_type": "display_data"
    }
   ],
   "source": [
    "#normalize the histogram so that the area under it is just one -> set density to True\n",
    "china1965.income.plot(kind=\"hist\",histtype=\"step\", bins=30, density=True)\n",
    "china1965.income.plot(kind=\"density\")\n",
    "\n",
    "plt.axis(xmin=0,xmax=3)"
   ]
  },
  {
   "cell_type": "markdown",
   "metadata": {},
   "source": [
    "It is important to remember that the density plot is just an approximation since we don't have access to the entire distribution. And the approximation is dependent on the scale of the smoothing, which is chosen automatically for us but which we can set directly by setting the bandwidth, or bw, I can obtain more detail, or more small thing. "
   ]
  },
  {
   "cell_type": "code",
   "execution_count": 46,
   "metadata": {},
   "outputs": [
    {
     "data": {
      "text/plain": [
       "(0, 3, 0.0, 1.308676977766925)"
      ]
     },
     "execution_count": 46,
     "metadata": {},
     "output_type": "execute_result"
    },
    {
     "data": {
      "image/png": "[encoded data removed]",
      "text/plain": [
       "<Figure size 432x288 with 1 Axes>"
      ]
     },
     "metadata": {},
     "output_type": "display_data"
    }
   ],
   "source": [
    "#normalize the histogram so that the area under it is just one -> set density to True\n",
    "china1965.income.plot(kind=\"hist\",histtype=\"step\", bins=30, density=True)\n",
    "\n",
    "#change smoothing\n",
    "china1965.income.plot(kind=\"density\", bw_method=0.1)\n",
    "\n",
    "plt.axis(xmin=0,xmax=3)"
   ]
  },
  {
   "cell_type": "markdown",
   "metadata": {},
   "source": [
    "#### Compare China and the US, 1965\n",
    "using log income.\n"
   ]
  },
  {
   "cell_type": "code",
   "execution_count": 62,
   "metadata": {},
   "outputs": [
    {
     "data": {
      "image/png": "[encoded data removed]",
      "text/plain": [
       "<Figure size 432x288 with 1 Axes>"
      ]
     },
     "metadata": {},
     "output_type": "display_data"
    }
   ],
   "source": [
    "china1965.log10_income.plot.hist(histtype='step',bins=20)\n",
    "usa1965.log10_income.plot.hist(histtype='step',bins=20)\n",
    "\n",
    "#To understand this better, show you the x-axis ticks in dollars. \n",
    "#show levels of a quarter, half a dollar, one, two, and up in multiples of two. \n",
    "levels = [0.25,0.5,1,2,4,8,16,32,64]\n",
    "#call matplolib xticks with the location of the levels and the labels.\n",
    "pp.xticks(np.log10(levels),levels); "
   ]
  },
  {
   "cell_type": "code",
   "execution_count": 61,
   "metadata": {},
   "outputs": [
    {
     "name": "stdout",
     "output_type": "stream",
     "text": [
      "[-2. -1.  0.  1.  2.  3.  4.]\n",
      "[-0.60205999 -0.30103     0.          0.30103     0.60205999  0.90308999\n",
      "  1.20411998  1.50514998  1.80617997  2.10720997]\n"
     ]
    }
   ],
   "source": [
    "#my log10\n",
    "print(np.log10([0.01,0.1,1,10,100,1000,10000]))\n",
    "print(np.log10([0.25,0.5,1,2,4,8,16,32,64,128]))"
   ]
  },
  {
   "cell_type": "markdown",
   "metadata": {},
   "source": [
    "In 1965, there's basically no overlap. So the poorest Americans are richer than the richest Chinese. \n",
    "\n",
    "#### Compare China and the US, 2015\n",
    "Let's see how things are in 2015. "
   ]
  },
  {
   "cell_type": "code",
   "execution_count": 49,
   "metadata": {},
   "outputs": [
    {
     "data": {
      "image/png": "[encoded data removed]",
      "text/plain": [
       "<Figure size 432x288 with 1 Axes>"
      ]
     },
     "metadata": {},
     "output_type": "display_data"
    }
   ],
   "source": [
    "china2015.log10_income.plot.hist(histtype='step',bins=20)\n",
    "usa2015.log10_income.plot.hist(histtype='step',bins=20)\n",
    "\n",
    "levels = [0.25,0.5,1,2,4,8,16,32,64]\n",
    "pp.xticks(np.log10(levels),levels);"
   ]
  },
  {
   "cell_type": "markdown",
   "metadata": {},
   "source": [
    "Very different. Both the Chinese and the Americans are richer, but there's also significant overlap. \n",
    "\n",
    "#### Compare China and the US, 2015, Weighted\n",
    "In fact, let's see if we can rescale the histograms to show the relative sizes of the population. I will get population data from our gapminder.csv data set.\n"
   ]
  },
  {
   "cell_type": "code",
   "execution_count": 64,
   "metadata": {},
   "outputs": [],
   "source": [
    "gapminder = pd.read_csv('lynda_data/gapminder.csv')"
   ]
  },
  {
   "cell_type": "code",
   "execution_count": 67,
   "metadata": {},
   "outputs": [
    {
     "data": {
      "text/plain": [
       "(1376048943.0, 321773631.0)"
      ]
     },
     "execution_count": 67,
     "metadata": {},
     "output_type": "execute_result"
    }
   ],
   "source": [
    "#select population -> need a single number, not a panda series, so I will cast it using float\n",
    "china_pop2015 = float(gapminder.query('country == \"China\" and year == 2015').population)\n",
    "usa_pop2015 = float(gapminder.query('country == \"United States\" and year == 2015').population)\n",
    "\n",
    "china_pop2015, usa_pop2015"
   ]
  },
  {
   "cell_type": "markdown",
   "metadata": {},
   "source": [
    "So we have 1.4 billions and 320 million, respectively. \n",
    "\n",
    "For the weighted histogram, I'm going to create a new weight column for the two data sets. The weight will be the population divided by the number of records. I have done the cast already, actually, so I don't need float. And same for the US.\n"
   ]
  },
  {
   "cell_type": "code",
   "execution_count": 73,
   "metadata": {},
   "outputs": [
    {
     "name": "stdout",
     "output_type": "stream",
     "text": [
      "1376048.943\n",
      "321773.631\n"
     ]
    }
   ],
   "source": [
    "china2015['weight'] = china_pop2015 / len(china2015)\n",
    "usa2015['weight'] = usa_pop2015 / len(usa2015)\n",
    "\n",
    "print(china2015['weight'][0])\n",
    "print(usa2015['weight'][0])"
   ]
  },
  {
   "cell_type": "markdown",
   "metadata": {},
   "source": [
    "Copy the code for the histogram and add the weights. \n"
   ]
  },
  {
   "cell_type": "code",
   "execution_count": 69,
   "metadata": {},
   "outputs": [
    {
     "data": {
      "image/png": "[encoded data removed]",
      "text/plain": [
       "<Figure size 432x288 with 1 Axes>"
      ]
     },
     "metadata": {},
     "output_type": "display_data"
    }
   ],
   "source": [
    "china2015.log10_income.plot.hist(histtype='step',bins=20,weights=china2015.weight)\n",
    "usa2015.log10_income.plot.hist(histtype='step',bins=20,weights=usa2015.weight)\n",
    "\n",
    "levels = [0.25,0.5,1,2,4,8,16,32,64]\n",
    "pp.xticks(np.log10(levels),levels);"
   ]
  },
  {
   "cell_type": "markdown",
   "metadata": {},
   "source": [
    "Rosling points out that there is a lot of purchasing power in the richer end of the Chinese population where it overlaps with the US. So corporations would do well to tap that market."
   ]
  },
  {
   "cell_type": "code",
   "execution_count": null,
   "metadata": {},
   "outputs": [],
   "source": []
  }
 ],
 "metadata": {
  "kernelspec": {
   "display_name": "Python 3",
   "language": "python",
   "name": "python3"
  },
  "language_info": {
   "codemirror_mode": {
    "name": "ipython",
    "version": 3
   },
   "file_extension": ".py",
   "mimetype": "text/x-python",
   "name": "python",
   "nbconvert_exporter": "python",
   "pygments_lexer": "ipython3",
   "version": "3.6.7"
  },
  "toc": {
   "base_numbering": 1,
   "nav_menu": {},
   "number_sections": true,
   "sideBar": true,
   "skip_h1_title": false,
   "title_cell": "Table of Contents",
   "title_sidebar": "Contents",
   "toc_cell": false,
   "toc_position": {},
   "toc_section_display": true,
   "toc_window_display": false
  }
 },
 "nbformat": 4,
 "nbformat_minor": 2
}
