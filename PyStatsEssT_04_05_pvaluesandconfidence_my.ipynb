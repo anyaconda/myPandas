{
 "cells": [
  {
   "cell_type": "markdown",
   "metadata": {},
   "source": [
    "## Python statistics essential training - 04_05_pvaluesandconfidence"
   ]
  },
  {
   "cell_type": "code",
   "execution_count": 1,
   "metadata": {},
   "outputs": [],
   "source": [
    "#meta 4/19/2020\n",
    "#Ch4. Statistical Inference\n",
    "#my code and solution code bits"
   ]
  },
  {
   "cell_type": "code",
   "execution_count": 2,
   "metadata": {},
   "outputs": [],
   "source": [
    "import math\n",
    "import io"
   ]
  },
  {
   "cell_type": "code",
   "execution_count": 3,
   "metadata": {},
   "outputs": [
    {
     "data": {
      "text/plain": [
       "<module 'matplotlib.pyplot' from '/Users/Amigo/anaconda3/lib/python3.6/site-packages/matplotlib/pyplot.py'>"
      ]
     },
     "execution_count": 3,
     "metadata": {},
     "output_type": "execute_result"
    }
   ],
   "source": [
    "import numpy as np\n",
    "import pandas as pd\n",
    "\n",
    "import matplotlib\n",
    "import matplotlib.pyplot as plt\n",
    "\n",
    "%matplotlib inline\n",
    "\n",
    "#to fix matplotlib error axvline -> 'float' object is not callable\n",
    "from importlib import reload \n",
    "reload(plt)"
   ]
  },
  {
   "cell_type": "code",
   "execution_count": 4,
   "metadata": {},
   "outputs": [],
   "source": [
    "import scipy.stats\n",
    "import scipy.optimize\n",
    "import scipy.spatial"
   ]
  },
  {
   "cell_type": "markdown",
   "metadata": {},
   "source": [
    "# Statistical Inference\n",
    "\n",
    "# p-value and Confidence Intervals\n",
    "\n",
    "There is in fact a close relationship between hypothesis testing and confidence intervals. If the null hypothesis corresponds to a range of values for a population parameter that are excluded from the confidence interval, then the null hypothesis must be rejected with a very low P value. The lower p-value, the higher the confidence level of he interval.\n",
    "\n",
    "## 0. Load Data\n",
    "We go back to our example of the election poll and reformulate it as hypothesis testing.\n"
   ]
  },
  {
   "cell_type": "code",
   "execution_count": 5,
   "metadata": {},
   "outputs": [],
   "source": [
    "poll = pd.read_csv('lynda_data/poll.csv')\n",
    "largepoll = pd.read_csv('lynda_data/poll-larger.csv')"
   ]
  },
  {
   "cell_type": "markdown",
   "metadata": {},
   "source": [
    "## 1. Analysis\n",
    "To remind, in the smaller poll Brown had a seeming majority of votes.  "
   ]
  },
  {
   "cell_type": "code",
   "execution_count": 6,
   "metadata": {},
   "outputs": [
    {
     "data": {
      "text/plain": [
       "Brown    0.511\n",
       "Green    0.489\n",
       "Name: vote, dtype: float64"
      ]
     },
     "execution_count": 6,
     "metadata": {},
     "output_type": "execute_result"
    }
   ],
   "source": [
    "poll.vote.value_counts(normalize=True)"
   ]
  },
  {
   "cell_type": "markdown",
   "metadata": {},
   "source": [
    "So here the null hypothesis will be that Green wins or ties the election, so the true Brown fraction would be 0.50 or less.\n",
    "\n",
    "Ho = Brown doesn't win (aka Green wins or ties)    \n",
    "Ha = Brown wins (aka Green doesn't win or ties)    \n",
    "\n",
    "We need to find out whether a Brown proportion of 0.511 is an extreme result if the null hypothesis holds. So we compute the sampling distribution of the proportion, and get a true Brown fraction of 0.50. If it's lower than that the p-value will be even lower. So we can work with 0.50. \n",
    "\n",
    "Here's a function to simulate the sample of a thousand (same as 04_02)\n"
   ]
  },
  {
   "cell_type": "code",
   "execution_count": 7,
   "metadata": {},
   "outputs": [],
   "source": [
    "#build a function that simulates a voting sample given the true vote fraction\n",
    "#input: \n",
    "#  -the actual fraction of votes for candidate A\n",
    "#  -the number of people polled\n",
    "#output:\n",
    "#  -votes for either A or B\n",
    "\n",
    "# use numpy random rand and compare uniformly distributed numbers between zero and one with the vote fraction for candidate A. \n",
    "# use numpy where and return A if the condition holds true or B otherwise. \n",
    "# enclose everything in a data frame.\n",
    "\n",
    "def sample(vote_fraction, n=1000):\n",
    "    return pd.DataFrame({'vote': np.where(np.random.rand(n) < vote_fraction, 'A', 'B')})"
   ]
  },
  {
   "cell_type": "code",
   "execution_count": 8,
   "metadata": {},
   "outputs": [
    {
     "data": {
      "text/html": [
       "<div>\n",
       "<style scoped>\n",
       "    .dataframe tbody tr th:only-of-type {\n",
       "        vertical-align: middle;\n",
       "    }\n",
       "\n",
       "    .dataframe tbody tr th {\n",
       "        vertical-align: top;\n",
       "    }\n",
       "\n",
       "    .dataframe thead th {\n",
       "        text-align: right;\n",
       "    }\n",
       "</style>\n",
       "<table border=\"1\" class=\"dataframe\">\n",
       "  <thead>\n",
       "    <tr style=\"text-align: right;\">\n",
       "      <th></th>\n",
       "      <th>vote</th>\n",
       "    </tr>\n",
       "  </thead>\n",
       "  <tbody>\n",
       "    <tr>\n",
       "      <th>95</th>\n",
       "      <td>B</td>\n",
       "    </tr>\n",
       "    <tr>\n",
       "      <th>96</th>\n",
       "      <td>B</td>\n",
       "    </tr>\n",
       "    <tr>\n",
       "      <th>97</th>\n",
       "      <td>A</td>\n",
       "    </tr>\n",
       "    <tr>\n",
       "      <th>98</th>\n",
       "      <td>A</td>\n",
       "    </tr>\n",
       "    <tr>\n",
       "      <th>99</th>\n",
       "      <td>B</td>\n",
       "    </tr>\n",
       "  </tbody>\n",
       "</table>\n",
       "</div>"
      ],
      "text/plain": [
       "   vote\n",
       "95    B\n",
       "96    B\n",
       "97    A\n",
       "98    A\n",
       "99    B"
      ]
     },
     "execution_count": 8,
     "metadata": {},
     "output_type": "execute_result"
    }
   ],
   "source": [
    "# A = Brown, B = Green\n",
    "sample(0.50).tail() #default 1000 votes\n",
    "sample(0.50, 100).tail() #only 100 votes"
   ]
  },
  {
   "cell_type": "markdown",
   "metadata": {},
   "source": [
    "And here's the sampling distribution.\n"
   ]
  },
  {
   "cell_type": "code",
   "execution_count": 9,
   "metadata": {},
   "outputs": [
    {
     "data": {
      "text/html": [
       "<div>\n",
       "<style scoped>\n",
       "    .dataframe tbody tr th:only-of-type {\n",
       "        vertical-align: middle;\n",
       "    }\n",
       "\n",
       "    .dataframe tbody tr th {\n",
       "        vertical-align: top;\n",
       "    }\n",
       "\n",
       "    .dataframe thead th {\n",
       "        text-align: right;\n",
       "    }\n",
       "</style>\n",
       "<table border=\"1\" class=\"dataframe\">\n",
       "  <thead>\n",
       "    <tr style=\"text-align: right;\">\n",
       "      <th></th>\n",
       "      <th>Brown</th>\n",
       "    </tr>\n",
       "  </thead>\n",
       "  <tbody>\n",
       "    <tr>\n",
       "      <th>0</th>\n",
       "      <td>0.509</td>\n",
       "    </tr>\n",
       "    <tr>\n",
       "      <th>1</th>\n",
       "      <td>0.484</td>\n",
       "    </tr>\n",
       "    <tr>\n",
       "      <th>2</th>\n",
       "      <td>0.494</td>\n",
       "    </tr>\n",
       "    <tr>\n",
       "      <th>3</th>\n",
       "      <td>0.514</td>\n",
       "    </tr>\n",
       "    <tr>\n",
       "      <th>4</th>\n",
       "      <td>0.513</td>\n",
       "    </tr>\n",
       "  </tbody>\n",
       "</table>\n",
       "</div>"
      ],
      "text/plain": [
       "   Brown\n",
       "0  0.509\n",
       "1  0.484\n",
       "2  0.494\n",
       "3  0.514\n",
       "4  0.513"
      ]
     },
     "execution_count": 9,
     "metadata": {},
     "output_type": "execute_result"
    }
   ],
   "source": [
    "# call sample, grab the votes and count them, repeat 10000 times\n",
    "# collect the results in a list comprehension and then close in the data frame\n",
    "dist = pd.DataFrame({'Brown': [sample(0.50).vote.value_counts(normalize=True)['A'] for i in range(10000)]})\n",
    "\n",
    "dist.head()"
   ]
  },
  {
   "cell_type": "code",
   "execution_count": 10,
   "metadata": {},
   "outputs": [
    {
     "data": {
      "image/png": "[encoded data removed]",
      "text/plain": [
       "<Figure size 432x288 with 1 Axes>"
      ]
     },
     "metadata": {},
     "output_type": "display_data"
    }
   ],
   "source": [
    "#histogram the sampling distribution\n",
    "dist.Brown.hist(histtype='step',bins=20)\n",
    "#overlay Brown's value of 0.511\n",
    "plt.title(\"Sampling distribution of votes for Brown\")\n",
    "plt.axvline(0.511,c='C1')\n",
    "plt.draw()  "
   ]
  },
  {
   "cell_type": "markdown",
   "metadata": {},
   "source": [
    "We see that indeed 0.511 is not a very extreme value."
   ]
  },
  {
   "cell_type": "code",
   "execution_count": 11,
   "metadata": {},
   "outputs": [
    {
     "data": {
      "text/plain": [
       "25.17"
      ]
     },
     "execution_count": 11,
     "metadata": {},
     "output_type": "execute_result"
    }
   ],
   "source": [
    "100 - scipy.stats.percentileofscore(dist,0.511)"
   ]
  },
  {
   "cell_type": "markdown",
   "metadata": {},
   "source": [
    "If we look for its quantile we see that the corresponding P value is 24%, certainly not enough to reject the null hypothesis that Green ties or wins.\n",
    "\n",
    "What about the larger sample?"
   ]
  },
  {
   "cell_type": "code",
   "execution_count": 12,
   "metadata": {},
   "outputs": [
    {
     "data": {
      "text/plain": [
       "Green    0.5181\n",
       "Brown    0.4819\n",
       "Name: vote, dtype: float64"
      ]
     },
     "execution_count": 12,
     "metadata": {},
     "output_type": "execute_result"
    }
   ],
   "source": [
    "largepoll.vote.value_counts(normalize=True)"
   ]
  },
  {
   "cell_type": "markdown",
   "metadata": {},
   "source": [
    "Here, it makes sense to set the null hypothesis to Brown winning or tying since Green seems to have the majority. A nice feature of binary problems, such as this, is that the null hypothesis and its alternative are complementary.\n",
    "\n",
    "Ho = Brown wins (or ties)  \n",
    "Ha = Brown doesn't win (or ties) which means Green wins  \n",
    "\n",
    "Again, compute a sampling distribution at the fraction of 0.50, this time for Green, when the sample's at 10,000.\n"
   ]
  },
  {
   "cell_type": "code",
   "execution_count": 13,
   "metadata": {},
   "outputs": [],
   "source": [
    "# call sample, grab the votes and count them, repeat 10000 times\n",
    "# takes longer, so we compute only 1,000 repetitions\n",
    "dist = pd.DataFrame({'Green': [sample(0.50,10000).vote.value_counts(normalize=True)['A'] for i in range(1000)]})"
   ]
  },
  {
   "cell_type": "code",
   "execution_count": 14,
   "metadata": {},
   "outputs": [
    {
     "data": {
      "image/png": "[encoded data removed]",
      "text/plain": [
       "<Figure size 432x288 with 1 Axes>"
      ]
     },
     "metadata": {},
     "output_type": "display_data"
    }
   ],
   "source": [
    "#histogram the sampling distribution\n",
    "dist.Green.hist(histtype='step',bins=20)\n",
    "#overlay Green's value of 0.5181\n",
    "plt.title(\"Sampling distribution of votes for Green\")\n",
    "plt.axvline(0.5181,c='C1')\n",
    "plt.draw() "
   ]
  },
  {
   "cell_type": "code",
   "execution_count": 15,
   "metadata": {},
   "outputs": [
    {
     "data": {
      "text/plain": [
       "0.0"
      ]
     },
     "execution_count": 15,
     "metadata": {},
     "output_type": "execute_result"
    }
   ],
   "source": [
    "100 - scipy.stats.percentileofscore(dist,0.5181)"
   ]
  },
  {
   "cell_type": "markdown",
   "metadata": {},
   "source": [
    "Here, the value's so extreme that it's not even included in our finite sampling distribution.\n",
    "\n",
    "We conclude that the P value for rejecting the null hypothesis that Brown wins or ties is 1 / 1000 or less, which qualifies as very significant. \n",
    "\n",
    "Note:  \n",
    "An interesting question is whether one can apply bootstrapping to compute the values. It is all trivial, because bootstrapping can only represent the true distribution, not the distribution under the null hypothesis, so we would need to modify the bootstrap values to be appropriate for the null case, which in some cases is straightforward and not as impossible.\n",
    "\n",
    "Certainly, it requires some thinking and problem specific information. Doing so, is outside the scope of our course."
   ]
  },
  {
   "cell_type": "code",
   "execution_count": null,
   "metadata": {},
   "outputs": [],
   "source": []
  }
 ],
 "metadata": {
  "kernelspec": {
   "display_name": "Python 3",
   "language": "python",
   "name": "python3"
  },
  "language_info": {
   "codemirror_mode": {
    "name": "ipython",
    "version": 3
   },
   "file_extension": ".py",
   "mimetype": "text/x-python",
   "name": "python",
   "nbconvert_exporter": "python",
   "pygments_lexer": "ipython3",
   "version": "3.6.7"
  },
  "toc": {
   "base_numbering": 1,
   "nav_menu": {},
   "number_sections": true,
   "sideBar": true,
   "skip_h1_title": false,
   "title_cell": "Table of Contents",
   "title_sidebar": "Contents",
   "toc_cell": false,
   "toc_position": {},
   "toc_section_display": true,
   "toc_window_display": false
  }
 },
 "nbformat": 4,
 "nbformat_minor": 2
}
