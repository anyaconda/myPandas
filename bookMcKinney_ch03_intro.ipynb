{
 "cells": [
  {
   "cell_type": "code",
   "execution_count": 1,
   "metadata": {},
   "outputs": [
    {
     "data": {
      "text/plain": [
       "{0: -0.2916670711190818,\n",
       " 1: 1.0906086958989865,\n",
       " 2: -0.9171979955638242,\n",
       " 3: 0.1789317629294565,\n",
       " 4: 0.649947717807298,\n",
       " 5: 1.110636925656008,\n",
       " 6: -0.43460088795092877}"
      ]
     },
     "execution_count": 1,
     "metadata": {},
     "output_type": "execute_result"
    }
   ],
   "source": [
    "#INFX574 W1 R1 McKinney ch.3 iPython\n",
    "#%quickref\n",
    "\n",
    "import numpy as np\n",
    "data = {i : np.random.randn() for i in range(7)}\n",
    "data"
   ]
  },
  {
   "cell_type": "code",
   "execution_count": 2,
   "metadata": {},
   "outputs": [
    {
     "data": {
      "text/plain": [
       "<function list.count>"
      ]
     },
     "execution_count": 2,
     "metadata": {},
     "output_type": "execute_result"
    }
   ],
   "source": [
    "#tab completion\n",
    "an_apple=27\n",
    "an_example=29\n",
    "#intellisense\n",
    "b = [1, 2, 3]\n",
    "b.count"
   ]
  },
  {
   "cell_type": "code",
   "execution_count": 8,
   "metadata": {},
   "outputs": [],
   "source": [
    "b?"
   ]
  },
  {
   "cell_type": "code",
   "execution_count": 3,
   "metadata": {},
   "outputs": [
    {
     "name": "stdout",
     "output_type": "stream",
     "text": [
      "hello\n",
      "current directory: \n",
      "/Users/Amigo/anaconda3/anyaconda3/myGitrepo/myPandas\n",
      "\n",
      "testing lib numpy: \n",
      "[0 1 2 3 4 5]\n"
     ]
    }
   ],
   "source": [
    "%run bookMcKinney_scripts/script_test.py"
   ]
  },
  {
   "cell_type": "code",
   "execution_count": null,
   "metadata": {},
   "outputs": [],
   "source": [
    "c"
   ]
  },
  {
   "cell_type": "code",
   "execution_count": null,
   "metadata": {},
   "outputs": [],
   "source": [
    "result"
   ]
  },
  {
   "cell_type": "code",
   "execution_count": 4,
   "metadata": {},
   "outputs": [
    {
     "data": {
      "text/plain": [
       "'/Users/Amigo/anaconda3/anyaconda3/myGitrepo/myPandas'"
      ]
     },
     "execution_count": 4,
     "metadata": {},
     "output_type": "execute_result"
    }
   ],
   "source": [
    "%pwd"
   ]
  },
  {
   "cell_type": "code",
   "execution_count": 5,
   "metadata": {},
   "outputs": [
    {
     "data": {
      "text/plain": [
       "{'TERM_PROGRAM': 'Apple_Terminal',\n",
       " 'SHELL': '/bin/bash',\n",
       " 'TERM': 'xterm-color',\n",
       " 'TMPDIR': '/var/folders/s2/pgl057wj4qz0vmx4tfn71phm0000gn/T/',\n",
       " 'Apple_PubSub_Socket_Render': '/private/tmp/com.apple.launchd.1q9pkfh6zT/Render',\n",
       " 'TERM_PROGRAM_VERSION': '404',\n",
       " 'OLDPWD': '/Users/Amigo/anaconda3/anyaconda3/myGitrepo/mySmartKeyboard',\n",
       " 'TERM_SESSION_ID': '35B76233-E956-4246-80B2-A6E09D8273B9',\n",
       " 'USER': 'Amigo',\n",
       " 'SSH_AUTH_SOCK': '/private/tmp/com.apple.launchd.kN4dBptHRw/Listeners',\n",
       " 'PATH': '/Users/Amigo/anaconda3/bin:/Users/Amigo/google-cloud-sdk/bin:/Users/Amigo/anaconda3/bin:/Users/Amigo/anaconda/bin:/usr/local/bin:/usr/local/git/bin:/usr/bin:/bin:/usr/sbin:/sbin:/Users/Amigo/anaconda/envs/py36/lib/python3.6/site-packages/graphviz:/Library/TeX/texbin:/opt/X11/bin',\n",
       " 'PWD': '/Users/Amigo/anaconda3/anyaconda3/myGitrepo',\n",
       " 'LANG': 'en_US.UTF-8',\n",
       " 'XPC_FLAGS': '0x0',\n",
       " 'XPC_SERVICE_NAME': '0',\n",
       " 'SHLVL': '1',\n",
       " 'HOME': '/Users/Amigo',\n",
       " 'LOGNAME': 'Amigo',\n",
       " 'DISPLAY': '/private/tmp/com.apple.launchd.Xk10rAe0Je/org.macosforge.xquartz:0',\n",
       " '_': '/Users/Amigo/anaconda3/bin/jupyter',\n",
       " 'JPY_PARENT_PID': '14982',\n",
       " 'CLICOLOR': '1',\n",
       " 'PAGER': 'cat',\n",
       " 'GIT_PAGER': 'cat',\n",
       " 'MPLBACKEND': 'module://ipykernel.pylab.backend_inline'}"
      ]
     },
     "execution_count": 5,
     "metadata": {},
     "output_type": "execute_result"
    }
   ],
   "source": [
    "%env"
   ]
  },
  {
   "cell_type": "code",
   "execution_count": null,
   "metadata": {},
   "outputs": [],
   "source": [
    "%debug"
   ]
  },
  {
   "cell_type": "code",
   "execution_count": null,
   "metadata": {},
   "outputs": [],
   "source": [
    "%run bookMcKinney_scripts/cprof_example.py"
   ]
  },
  {
   "cell_type": "code",
   "execution_count": 17,
   "metadata": {},
   "outputs": [
    {
     "data": {
      "text/plain": [
       "'/Users/Amigo/anaconda3/anyaconda3/myGitrepo/myPandas'"
      ]
     },
     "execution_count": 17,
     "metadata": {},
     "output_type": "execute_result"
    }
   ],
   "source": [
    "%pwd"
   ]
  },
  {
   "cell_type": "code",
   "execution_count": null,
   "metadata": {
    "scrolled": true
   },
   "outputs": [],
   "source": [
    "%run -m cProfile -s cumulative bookMcKinney_scripts/cprof_example.py"
   ]
  },
  {
   "cell_type": "code",
   "execution_count": null,
   "metadata": {},
   "outputs": [],
   "source": [
    "%prun -l 7 -s cumulative run_experiment()"
   ]
  },
  {
   "cell_type": "code",
   "execution_count": null,
   "metadata": {},
   "outputs": [],
   "source": []
  }
 ],
 "metadata": {
  "kernelspec": {
   "display_name": "Python 3",
   "language": "python",
   "name": "python3"
  },
  "language_info": {
   "codemirror_mode": {
    "name": "ipython",
    "version": 3
   },
   "file_extension": ".py",
   "mimetype": "text/x-python",
   "name": "python",
   "nbconvert_exporter": "python",
   "pygments_lexer": "ipython3",
   "version": "3.6.5"
  }
 },
 "nbformat": 4,
 "nbformat_minor": 1
}
